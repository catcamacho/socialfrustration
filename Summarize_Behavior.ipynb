{
 "cells": [
  {
   "cell_type": "code",
   "execution_count": null,
   "metadata": {},
   "outputs": [],
   "source": [
    "from pandas import DataFrame, read_csv\n",
    "\n",
    "block_feedback_cond = ['positive','negative','negative','positive','negative','positive','positive','negative',\n",
    "                       'negative','negative','positive','positive','positive','negative','negative','positive']\n",
    "block_choice_cond = ['nonsocial','social','nonsocial','social','nonsocial','social','nonsocial','social',\n",
    "                     'nonsocial','social','nonsocial','social','nonsocial','social','nonsocial','social']\n",
    "block_combined_cond = ['nonsoc-pos','soc-neg','nonsoc-neg','soc-pos','nonsoc-neg','soc-pos','nonsoc-pos','soc-neg',\n",
    "                       'nonsoc-neg','soc-neg','nonsoc-pos','soc-pos','nonsoc-pos','soc-neg','nonsoc-neg','soc-pos']\n",
    "blocks = ['Block{0}'.format(a) for a in range(1,17)]\n",
    "lists = ['List{0}'.format(a) for a in range(1,17)]\n",
    "data = read_csv('/Users/catcamacho/Box/LCBD/ChEC/social_cake_data_analysis/scripts/Bxdata_social_cake_task_full_sample_20200224_noq.csv',\n",
    "                index_col=None,)\n",
    "data.columns"
   ]
  },
  {
   "cell_type": "code",
   "execution_count": 36,
   "metadata": {},
   "outputs": [],
   "source": [
    "#summarize reaction times\n",
    "import numpy as np\n",
    "from pandas import pivot\n",
    "\n",
    "#isolate trials with responses\n",
    "rt_data = data[data['Choice.RESP'] >= 1]\n",
    "\n",
    "#remove trials with low RTs (<100ms)\n",
    "rt_data = rt_data[rt_data['Choice.RT']>=100]\n",
    "\n",
    "for i in range(0,16):\n",
    "    rt_data.loc[rt_data['Running']==blocks[i],'block_combined_cond'] = block_combined_cond[i]\n",
    "    rt_data.loc[rt_data['Running']==blocks[i],'block_choice_cond'] = block_choice_cond[i]\n",
    "    rt_data.loc[rt_data['Running']==blocks[i],'block_feedback_cond'] = block_feedback_cond[i]\n",
    "    \n",
    "summary_combcond_rt = rt_data.groupby(['Subject','block_combined_cond']).agg({'Choice.RT':['mean','min','max']})\n",
    "summary_combcond_rt.columns = ['rt_mean','rt_min','rt_max']\n",
    "summary_combcond_rt.to_csv('summary_combcond_rt_2020024.csv')\n",
    "\n",
    "summary_choicecond_rt = rt_data.groupby(['Subject','block_choice_cond']).agg({'Choice.RT':['mean','min','max']})\n",
    "summary_choicecond_rt.columns = ['rt_mean','rt_min','rt_max']\n",
    "summary_choicecond_rt.to_csv('summary_choicecond_rt_20200224.csv')\n",
    "\n",
    "summary_feedcond_rt = rt_data.groupby(['Subject','block_feedback_cond']).agg({'Choice.RT':['mean','min','max']})\n",
    "summary_feedcond_rt.columns = ['rt_mean','rt_min','rt_max']\n",
    "summary_feedcond_rt.to_csv('summary_feedcond_rt_20200224.csv')"
   ]
  },
  {
   "cell_type": "code",
   "execution_count": null,
   "metadata": {},
   "outputs": [],
   "source": [
    "# summarize mood ratings\n",
    "mood_data = data[(data['MoodRating']>0) & (data['MoodRating']<8)]\n",
    "mood_data['MoodRating_recal'] = mood_data['MoodRating'] - 4\n",
    "\n",
    "for i in range(0,16):\n",
    "    mood_data.loc[mood_data['Running']==lists[i],'block_combined_cond'] = block_combined_cond[i]\n",
    "    mood_data.loc[mood_data['Running']==lists[i],'block_choice_cond'] = block_choice_cond[i]\n",
    "    mood_data.loc[mood_data['Running']==lists[i],'block_feedback_cond'] = block_feedback_cond[i]\n",
    "    \n",
    "summary_combcond_mood = mood_data.groupby(['Subject','block_combined_cond']).agg({'MoodRating_recal':['mean','min','max']})\n",
    "summary_combcond_mood.columns = ['mood_mean','mood_min','mood_max']\n",
    "summary_combcond_mood.to_csv('summary_combcond_mood_2020024.csv')\n",
    "\n",
    "summary_choicecond_mood = mood_data.groupby(['Subject','block_choice_cond']).agg({'MoodRating_recal':['mean','min','max']})\n",
    "summary_choicecond_mood.columns = ['mood_mean','mood_min','mood_max']\n",
    "summary_choicecond_mood.to_csv('summary_choicecond_mood_20200224.csv')\n",
    "\n",
    "summary_feedcond_mood = mood_data.groupby(['Subject','block_feedback_cond']).agg({'MoodRating_recal':['mean','min','max']})\n",
    "summary_feedcond_mood.columns = ['mood_mean','mood_min','mood_max']\n",
    "summary_feedcond_mood.to_csv('summary_feedcond_mood_20200224.csv')"
   ]
  }
 ],
 "metadata": {
  "kernelspec": {
   "display_name": "Python 3",
   "language": "python",
   "name": "python3"
  },
  "language_info": {
   "codemirror_mode": {
    "name": "ipython",
    "version": 3
   },
   "file_extension": ".py",
   "mimetype": "text/x-python",
   "name": "python",
   "nbconvert_exporter": "python",
   "pygments_lexer": "ipython3",
   "version": "3.7.2"
  }
 },
 "nbformat": 4,
 "nbformat_minor": 2
}
