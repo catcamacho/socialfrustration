{
 "cells": [
  {
   "cell_type": "code",
   "execution_count": 13,
   "metadata": {},
   "outputs": [
    {
     "data": {
      "text/plain": [
       "Index(['Trial', 'Stimulus', 'Emotion', 'Type', 'Export Start Trial Time [ms]',\n",
       "       'Export End Trial Time [ms]', 'Participant', 'Color', 'Eye L/R',\n",
       "       'AOI Name', 'AOI Scope', 'AOI Order', 'AOI Size [px]',\n",
       "       'AOI Coverage [%]', 'Appearance Count', 'Visible Time [ms]',\n",
       "       'Visible Time [%]', 'Entry Time [ms]', 'Sequence',\n",
       "       'Net Dwell Time [ms]', 'Dwell Time [ms]',\n",
       "       'Normalized Dwell [ms/Coverage]', 'Glance Duration [ms]',\n",
       "       'Diversion Duration [ms]', 'First Fixation Duration [ms]',\n",
       "       'Glances Count', 'Revisits', 'Fixation Count', 'Net Dwell Time [%]',\n",
       "       'Dwell Time [%]', 'Fixation Time [ms]', 'Fixation Time [%]',\n",
       "       'Time to First Mouse Click [ms]', 'Average Fixation [ms]'],\n",
       "      dtype='object')"
      ]
     },
     "execution_count": 13,
     "metadata": {},
     "output_type": "execute_result"
    }
   ],
   "source": [
    "from pandas import DataFrame, read_csv\n",
    "\n",
    "data = read_csv('/Users/catcamacho/Box/LCBD/ChEC/jumble/Jumble_combined_AOI_cleaned_20200124.csv',index_col=None)\n",
    "data.columns"
   ]
  },
  {
   "cell_type": "code",
   "execution_count": null,
   "metadata": {},
   "outputs": [],
   "source": [
    "import numpy as np\n",
    "\n",
    "subs = np.unique(data['Participant'])\n",
    "emotion = np.unique(data['Emotion'])\n",
    "trial_type = np.unique(data['Type'])\n",
    "columns = []\n",
    "\n",
    "for emo in emotion:\n",
    "    emo_t = data[data['Emotion']==emo]\n",
    "    for trial in trial_type:\n",
    "        trial_t = emo_t[emo_t['Type']==trial]\n",
    "        aois = np.unique(trial_t['AOI Name'])\n",
    "        for a in aois:\n",
    "            columns.append(emo+'_'+trial+'_'+a+'_rawdwell')\n",
    "            columns.append(emo+'_'+trial+'_'+a+'_normdwell')\n",
    "            columns.append(emo+'_'+trial+'_'+a+'_pcentdwell')\n",
    "            columns.append(emo+'_'+trial+'_'+a+'_entrytime')"
   ]
  },
  {
   "cell_type": "code",
   "execution_count": 15,
   "metadata": {},
   "outputs": [],
   "source": [
    "import numpy as np\n",
    "\n",
    "subs = np.unique(data['Participant'])\n",
    "emotion = np.unique(data['Emotion'])\n",
    "trial_type = np.unique(data['Type'])\n",
    "\n",
    "summary_data = DataFrame(columns=columns,index=subs)\n",
    "\n",
    "for sub in subs:\n",
    "    temp = data[data['Participant']==sub]\n",
    "    for emo in emotion:\n",
    "        emo_t = temp[temp['Emotion']==emo]\n",
    "        for trial in trial_type:\n",
    "            trial_t = emo_t[emo_t['Type']==trial]\n",
    "            aois = np.unique(trial_t['AOI Name'])\n",
    "            for a in aois:\n",
    "                a_t = trial_t[trial_t['AOI Name']==a]\n",
    "                if a=='eye':\n",
    "                    stims = np.unique(a_t['Stimulus'])\n",
    "                    comb_eye = DataFrame(columns=['dwelltime','normdwell','normpcent','entry'], index=stims)\n",
    "                    for stim in stims:\n",
    "                        a_t_s = a_t[a_t['Stimulus']==stim]\n",
    "                        aoi_num = np.unique(a_t_s['AOI Order'])\n",
    "                        a_t_s = a_t_s.groupby(['AOI Order']).mean()\n",
    "                        comb_eye.loc[stim,'dwelltime'] = a_t_s.loc[aoi_num[0],'Dwell Time [ms]'] + a_t_s.loc[aoi_num[1],'Dwell Time [ms]']\n",
    "                        comb_eye.loc[stim,'normdwell'] = a_t_s.loc[aoi_num[0],'Normalized Dwell [ms/Coverage]'] + a_t_s.loc[aoi_num[1],'Normalized Dwell [ms/Coverage]']\n",
    "                        comb_eye.loc[stim,'normpcent'] = a_t_s.loc[aoi_num[0],'Dwell Time [%]'] + a_t_s.loc[aoi_num[1],'Dwell Time [%]']\n",
    "                        comb_eye.loc[stim,'entry'] = a_t_s['Entry Time [ms]'].min()\n",
    "                        \n",
    "                    summary_data.loc[sub,emo+'_'+trial+'_'+a+'_rawdwell'] = comb_eye['dwelltime'].mean()\n",
    "                    summary_data.loc[sub,emo+'_'+trial+'_'+a+'_normdwell'] = comb_eye['normdwell'].mean()\n",
    "                    summary_data.loc[sub,emo+'_'+trial+'_'+a+'_pcentdwell'] = comb_eye['normpcent'].mean()\n",
    "                    summary_data.loc[sub,emo+'_'+trial+'_'+a+'_entrytime'] = comb_eye['entry'].mean()\n",
    "                else:\n",
    "                    summary_data.loc[sub,emo+'_'+trial+'_'+a+'_rawdwell'] = a_t['Dwell Time [ms]'].mean()\n",
    "                    summary_data.loc[sub,emo+'_'+trial+'_'+a+'_normdwell'] = a_t['Normalized Dwell [ms/Coverage]'].mean()\n",
    "                    summary_data.loc[sub,emo+'_'+trial+'_'+a+'_pcentdwell'] = a_t['Dwell Time [%]'].mean()\n",
    "                    summary_data.loc[sub,emo+'_'+trial+'_'+a+'_entrytime'] = a_t['Entry Time [ms]'].mean()\n",
    "                \n",
    "                \n",
    "summary_data.to_csv('summarized_eyetracking_20200124.csv')       "
   ]
  },
  {
   "cell_type": "code",
   "execution_count": null,
   "metadata": {},
   "outputs": [],
   "source": []
  }
 ],
 "metadata": {
  "kernelspec": {
   "display_name": "Python 3",
   "language": "python",
   "name": "python3"
  },
  "language_info": {
   "codemirror_mode": {
    "name": "ipython",
    "version": 3
   },
   "file_extension": ".py",
   "mimetype": "text/x-python",
   "name": "python",
   "nbconvert_exporter": "python",
   "pygments_lexer": "ipython3",
   "version": "3.7.2"
  }
 },
 "nbformat": 4,
 "nbformat_minor": 2
}
